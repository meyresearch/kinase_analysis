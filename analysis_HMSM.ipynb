{
 "cells": [
  {
   "cell_type": "markdown",
   "metadata": {},
   "source": [
    "This notebook builds an HMM using an existing MSM model as the initial guess."
   ]
  },
  {
   "cell_type": "code",
   "execution_count": null,
   "metadata": {},
   "outputs": [],
   "source": [
    "import mdtraj as md\n",
    "import numpy as np\n",
    "\n",
    "from tqdm import tqdm\n",
    "from pathlib import Path\n",
    "import os\n",
    "from natsort import natsorted\n",
    "import pandas as pd\n",
    "from addict import Dict as Adict\n",
    "\n",
    "import pyemma as pm\n",
    "import deeptime as dt\n",
    "import deeptime.markov.msm as msm\n",
    "import deeptime.markov.hmm as hmm\n",
    "from deeptime.plots import plot_implied_timescales, plot_energy2d, plot_contour2d_from_xyz\n",
    "from deeptime.markov.sample import *\n",
    "from deeptime.util import energy2d\n",
    "\n",
    "import matplotlib as mpl\n",
    "import matplotlib.pyplot as plt\n",
    "import seaborn as sns\n",
    "\n",
    "from funcs_objective import *\n",
    "from funcs_validate_msm import *"
   ]
  },
  {
   "cell_type": "code",
   "execution_count": null,
   "metadata": {},
   "outputs": [],
   "source": [
    "initial_hmm_guess = dt.markov.hmm.init.discrete.metastable_from_msm(msm_mod, n_hidden_states=2)\n",
    "hmm_est_real = hmm.MaximumLikelihoodHMM(lagtime=1, initial_model=initial_hmm_guess).fit(dtrajs).fetch_model()"
   ]
  }
 ],
 "metadata": {
  "language_info": {
   "name": "python"
  }
 },
 "nbformat": 4,
 "nbformat_minor": 2
}
