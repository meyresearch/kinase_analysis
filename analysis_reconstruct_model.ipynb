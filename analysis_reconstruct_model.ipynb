{
 "cells": [
  {
   "cell_type": "code",
   "execution_count": 4,
   "metadata": {},
   "outputs": [],
   "source": [
    "import mdtraj as md\n",
    "import numpy as np\n",
    "from scipy.stats import ttest_ind_from_stats\n",
    "\n",
    "from tqdm import tqdm\n",
    "from pathlib import Path\n",
    "import os\n",
    "from natsort import natsorted\n",
    "import pandas as pd\n",
    "from addict import Dict as Adict\n",
    "\n",
    "import pyemma as pm\n",
    "import deeptime as dt\n",
    "import deeptime.markov.msm as msm\n",
    "import deeptime.markov.hmm as hmm\n",
    "\n",
    "from deeptime.plots import plot_implied_timescales, plot_energy2d, plot_contour2d_from_xyz\n",
    "from deeptime.markov.sample import *\n",
    "from deeptime.markov import TransitionCountEstimator\n",
    "from deeptime.util import energy2d\n",
    "\n",
    "import matplotlib as mpl\n",
    "import matplotlib.pyplot as plt\n",
    "import matplotlib.colors as colors\n",
    "import seaborn as sns\n",
    "\n",
    "from funcs_build_msm import _tica, get_data \n",
    "from funcs_validate_msm import *\n",
    "from funcs_sample import *\n",
    "from funcs_plotting import *"
   ]
  },
  {
   "cell_type": "code",
   "execution_count": 22,
   "metadata": {},
   "outputs": [],
   "source": [
    "protein = 'abl'\n",
    "study_name = 'n_clusters'\n",
    "features = ['dbdist', 'dbdihed', 'aloop', 'achelix']\n",
    "hp_id = 2\n",
    "bs_id = 0"
   ]
  },
  {
   "cell_type": "code",
   "execution_count": 26,
   "metadata": {},
   "outputs": [
    {
     "data": {
      "text/html": [
       "<div>\n",
       "<style scoped>\n",
       "    .dataframe tbody tr th:only-of-type {\n",
       "        vertical-align: middle;\n",
       "    }\n",
       "\n",
       "    .dataframe tbody tr th {\n",
       "        vertical-align: top;\n",
       "    }\n",
       "\n",
       "    .dataframe thead th {\n",
       "        text-align: right;\n",
       "    }\n",
       "</style>\n",
       "<table border=\"1\" class=\"dataframe\">\n",
       "  <thead>\n",
       "    <tr style=\"text-align: right;\">\n",
       "      <th></th>\n",
       "      <th>hp_id</th>\n",
       "      <th>bs</th>\n",
       "      <th>is_sparse</th>\n",
       "      <th>t2</th>\n",
       "      <th>t3</th>\n",
       "      <th>t4</th>\n",
       "      <th>t5</th>\n",
       "      <th>t6</th>\n",
       "      <th>t7</th>\n",
       "      <th>t8</th>\n",
       "      <th>...</th>\n",
       "      <th>vamp2eq_12</th>\n",
       "      <th>vamp2eq_13</th>\n",
       "      <th>vamp2eq_14</th>\n",
       "      <th>vamp2eq_15</th>\n",
       "      <th>vamp2eq_16</th>\n",
       "      <th>vamp2eq_17</th>\n",
       "      <th>vamp2eq_18</th>\n",
       "      <th>vamp2eq_19</th>\n",
       "      <th>vamp2eq_20</th>\n",
       "      <th>vamp2eq_21</th>\n",
       "    </tr>\n",
       "  </thead>\n",
       "  <tbody>\n",
       "    <tr>\n",
       "      <th>0</th>\n",
       "      <td>2</td>\n",
       "      <td>0</td>\n",
       "      <td>True</td>\n",
       "      <td>1.833997e+06</td>\n",
       "      <td>1.266339e+06</td>\n",
       "      <td>77306.295168</td>\n",
       "      <td>28905.215896</td>\n",
       "      <td>9145.507739</td>\n",
       "      <td>7924.966831</td>\n",
       "      <td>3852.193645</td>\n",
       "      <td>...</td>\n",
       "      <td>11.542568</td>\n",
       "      <td>12.415974</td>\n",
       "      <td>13.225425</td>\n",
       "      <td>14.034613</td>\n",
       "      <td>14.84017</td>\n",
       "      <td>15.632894</td>\n",
       "      <td>16.422647</td>\n",
       "      <td>17.189757</td>\n",
       "      <td>17.932025</td>\n",
       "      <td>18.659759</td>\n",
       "    </tr>\n",
       "  </tbody>\n",
       "</table>\n",
       "<p>1 rows × 63 columns</p>\n",
       "</div>"
      ],
      "text/plain": [
       "   hp_id  bs  is_sparse            t2            t3            t4  \\\n",
       "0      2   0       True  1.833997e+06  1.266339e+06  77306.295168   \n",
       "\n",
       "             t5           t6           t7           t8  ...  vamp2eq_12  \\\n",
       "0  28905.215896  9145.507739  7924.966831  3852.193645  ...   11.542568   \n",
       "\n",
       "   vamp2eq_13  vamp2eq_14  vamp2eq_15  vamp2eq_16  vamp2eq_17  vamp2eq_18  \\\n",
       "0   12.415974   13.225425   14.034613    14.84017   15.632894   16.422647   \n",
       "\n",
       "   vamp2eq_19  vamp2eq_20  vamp2eq_21  \n",
       "0   17.189757   17.932025   18.659759  \n",
       "\n",
       "[1 rows x 63 columns]"
      ]
     },
     "execution_count": 26,
     "metadata": {},
     "output_type": "execute_result"
    }
   ],
   "source": [
    "data_path = Path(f'data_{protein}/msm/{study_name}')\n",
    "msm_path = data_path/f'{hp_id}'\n",
    "summary_f = data_path/f'{study_name}.h5'\n",
    "\n",
    "hps = pd.read_hdf(summary_f, key='hps')\n",
    "raw = pd.read_hdf(summary_f, key='result_raw')\n",
    "hp_dict = Adict(hps[hps.hp_id == hp_id].to_dict('records')[0])\n",
    "\n",
    "raw.loc[(raw.hp_id == hp_id) & (raw.bs == bs_id)]"
   ]
  },
  {
   "cell_type": "code",
   "execution_count": 13,
   "metadata": {},
   "outputs": [],
   "source": [
    "savedir = Path(f'data_{protein}/msm/validation/{study_name}_hp{hp_id}_bs{bs_id}')\n",
    "savedir.mkdir(exist_ok=True, parents=True)"
   ]
  },
  {
   "cell_type": "code",
   "execution_count": null,
   "metadata": {},
   "outputs": [],
   "source": []
  }
 ],
 "metadata": {
  "kernelspec": {
   "display_name": "kinase",
   "language": "python",
   "name": "python3"
  },
  "language_info": {
   "codemirror_mode": {
    "name": "ipython",
    "version": 3
   },
   "file_extension": ".py",
   "mimetype": "text/x-python",
   "name": "python",
   "nbconvert_exporter": "python",
   "pygments_lexer": "ipython3",
   "version": "3.10.0"
  }
 },
 "nbformat": 4,
 "nbformat_minor": 2
}
