{
 "cells": [
  {
   "cell_type": "code",
   "execution_count": 51,
   "metadata": {},
   "outputs": [],
   "source": [
    "import numpy as np\n",
    "import MDAnalysis as mda\n",
    "import mdtraj as md\n",
    "\n",
    "from funcs_characterise import *\n",
    "from paths import *\n",
    "\n",
    "from pathlib import Path\n",
    "import os"
   ]
  },
  {
   "cell_type": "code",
   "execution_count": 48,
   "metadata": {},
   "outputs": [],
   "source": [
    "dfg_in_samples = md.load(\"./data_egfr/msm/dunbrack_studies/lag100_random_trials/61/MS_0.pdb\")\n",
    "dfg_out_samples = md.load(\"./data_egfr/msm/dunbrack_studies/lag100_random_trials/61/MS_1.pdb\")"
   ]
  },
  {
   "cell_type": "code",
   "execution_count": 49,
   "metadata": {},
   "outputs": [],
   "source": [
    "dfg_in_mean, dfg_in_std = cal_within_state_rmsd(dfg_in_samples)\n",
    "dfg_out_mean, dfg_out_std = cal_within_state_rmsd(dfg_out_samples)\n",
    "in_out_mean, in_out_std = cal_between_states_rmsd(dfg_in_samples, dfg_out_samples)\n",
    "score = cal_between_states_diff(in_out_mean, dfg_in_std, dfg_out_std)"
   ]
  },
  {
   "cell_type": "code",
   "execution_count": 52,
   "metadata": {},
   "outputs": [
    {
     "ename": "ValueError",
     "evalue": "'H5' isn't a valid topology format, nor a coordinate format\n   from which a topology can be minimally inferred.\n   You can use 'Universe(topology, ..., topology_format=FORMAT)'\n   to explicitly specify the format and\n   override automatic detection. Known FORMATs are:\n   dict_keys(['PSF', 'TOP', 'PRMTOP', 'PARM7', 'PDB', 'ENT', 'XPDB', 'PQR', 'GRO', 'CRD', 'PDBQT', 'DMS', 'TPR', 'MOL2', 'DATA', 'LAMMPSDUMP', 'XYZ', 'TXYZ', 'ARC', 'GMS', 'CONFIG', 'HISTORY', 'XML', 'MMTF', 'GSD', 'MINIMAL', 'ITP', 'IN', 'FHIAIMS', 'PARMED', 'RDKIT', 'OPENMMTOPOLOGY', 'OPENMMAPP'])\n   See https://docs.mdanalysis.org/documentation_pages/topology/init.html#supported-topology-formats\n   For missing formats, raise an issue at \n   https://github.com/MDAnalysis/mdanalysis/issues",
     "output_type": "error",
     "traceback": [
      "\u001b[0;31m---------------------------------------------------------------------------\u001b[0m",
      "\u001b[0;31mValueError\u001b[0m                                Traceback (most recent call last)",
      "Cell \u001b[0;32mIn[52], line 1\u001b[0m\n\u001b[0;32m----> 1\u001b[0m \u001b[43msave_example_with_property\u001b[49m\u001b[43m(\u001b[49m\u001b[43mtraj_files\u001b[49m\u001b[43m[\u001b[49m\u001b[38;5;241;43m0\u001b[39;49m\u001b[43m]\u001b[49m\u001b[43m,\u001b[49m\u001b[43m \u001b[49m\u001b[43mscore\u001b[49m\u001b[43m,\u001b[49m\u001b[43m \u001b[49m\u001b[38;5;124;43m'\u001b[39;49m\u001b[38;5;124;43mrmsd_diff_dfg-in-out.pdb\u001b[39;49m\u001b[38;5;124;43m'\u001b[39;49m\u001b[43m)\u001b[49m\n",
      "File \u001b[0;32m~/Desktop/projects/kinase_analysis/funcs_characterise.py:85\u001b[0m, in \u001b[0;36msave_example_with_property\u001b[0;34m(ref_path, property, save_path)\u001b[0m\n\u001b[1;32m     80\u001b[0m \u001b[38;5;28;01mdef\u001b[39;00m \u001b[38;5;21msave_example_with_property\u001b[39m(ref_path, \u001b[38;5;28mproperty\u001b[39m, save_path):\n\u001b[1;32m     81\u001b[0m \u001b[38;5;250m    \u001b[39m\u001b[38;5;124;03m\"\"\"\u001b[39;00m\n\u001b[1;32m     82\u001b[0m \u001b[38;5;124;03m    Save the reference structure with the a computed property as the B-factors\u001b[39;00m\n\u001b[1;32m     83\u001b[0m \u001b[38;5;124;03m    \"\"\"\u001b[39;00m\n\u001b[0;32m---> 85\u001b[0m     ref \u001b[38;5;241m=\u001b[39m \u001b[43mmda\u001b[49m\u001b[38;5;241;43m.\u001b[39;49m\u001b[43mUniverse\u001b[49m\u001b[43m(\u001b[49m\u001b[43mref_path\u001b[49m\u001b[43m)\u001b[49m\n\u001b[1;32m     86\u001b[0m     \u001b[38;5;28;01mfor\u001b[39;00m residue, p \u001b[38;5;129;01min\u001b[39;00m \u001b[38;5;28mzip\u001b[39m(ref\u001b[38;5;241m.\u001b[39mresidues, \u001b[38;5;28mproperty\u001b[39m):\n\u001b[1;32m     87\u001b[0m         residue\u001b[38;5;241m.\u001b[39matoms\u001b[38;5;241m.\u001b[39mtempfactors \u001b[38;5;241m=\u001b[39m p\n",
      "File \u001b[0;32m~/Loc/miniconda3/envs/kinase/lib/python3.10/site-packages/MDAnalysis/core/universe.py:356\u001b[0m, in \u001b[0;36mUniverse.__init__\u001b[0;34m(self, topology, all_coordinates, format, topology_format, transformations, guess_bonds, vdwradii, fudge_factor, lower_bound, in_memory, in_memory_step, *coordinates, **kwargs)\u001b[0m\n\u001b[1;32m    354\u001b[0m \u001b[38;5;28;01mif\u001b[39;00m \u001b[38;5;129;01mnot\u001b[39;00m \u001b[38;5;28misinstance\u001b[39m(topology, Topology) \u001b[38;5;129;01mand\u001b[39;00m \u001b[38;5;129;01mnot\u001b[39;00m topology \u001b[38;5;129;01mis\u001b[39;00m \u001b[38;5;28;01mNone\u001b[39;00m:\n\u001b[1;32m    355\u001b[0m     \u001b[38;5;28mself\u001b[39m\u001b[38;5;241m.\u001b[39mfilename \u001b[38;5;241m=\u001b[39m _check_file_like(topology)\n\u001b[0;32m--> 356\u001b[0m     topology \u001b[38;5;241m=\u001b[39m \u001b[43m_topology_from_file_like\u001b[49m\u001b[43m(\u001b[49m\u001b[38;5;28;43mself\u001b[39;49m\u001b[38;5;241;43m.\u001b[39;49m\u001b[43mfilename\u001b[49m\u001b[43m,\u001b[49m\n\u001b[1;32m    357\u001b[0m \u001b[43m                                        \u001b[49m\u001b[43mtopology_format\u001b[49m\u001b[38;5;241;43m=\u001b[39;49m\u001b[43mtopology_format\u001b[49m\u001b[43m,\u001b[49m\n\u001b[1;32m    358\u001b[0m \u001b[43m                                        \u001b[49m\u001b[38;5;241;43m*\u001b[39;49m\u001b[38;5;241;43m*\u001b[39;49m\u001b[43mkwargs\u001b[49m\u001b[43m)\u001b[49m\n\u001b[1;32m    360\u001b[0m \u001b[38;5;28;01mif\u001b[39;00m topology \u001b[38;5;129;01mis\u001b[39;00m \u001b[38;5;129;01mnot\u001b[39;00m \u001b[38;5;28;01mNone\u001b[39;00m:\n\u001b[1;32m    361\u001b[0m     \u001b[38;5;28mself\u001b[39m\u001b[38;5;241m.\u001b[39m_topology \u001b[38;5;241m=\u001b[39m topology\n",
      "File \u001b[0;32m~/Loc/miniconda3/envs/kinase/lib/python3.10/site-packages/MDAnalysis/core/universe.py:106\u001b[0m, in \u001b[0;36m_topology_from_file_like\u001b[0;34m(topology_file, topology_format, **kwargs)\u001b[0m\n\u001b[1;32m    104\u001b[0m \u001b[38;5;28;01mdef\u001b[39;00m \u001b[38;5;21m_topology_from_file_like\u001b[39m(topology_file, topology_format\u001b[38;5;241m=\u001b[39m\u001b[38;5;28;01mNone\u001b[39;00m,\n\u001b[1;32m    105\u001b[0m                              \u001b[38;5;241m*\u001b[39m\u001b[38;5;241m*\u001b[39mkwargs):\n\u001b[0;32m--> 106\u001b[0m     parser \u001b[38;5;241m=\u001b[39m \u001b[43mget_parser_for\u001b[49m\u001b[43m(\u001b[49m\u001b[43mtopology_file\u001b[49m\u001b[43m,\u001b[49m\u001b[43m \u001b[49m\u001b[38;5;28;43mformat\u001b[39;49m\u001b[38;5;241;43m=\u001b[39;49m\u001b[43mtopology_format\u001b[49m\u001b[43m)\u001b[49m\n\u001b[1;32m    108\u001b[0m     \u001b[38;5;28;01mtry\u001b[39;00m:\n\u001b[1;32m    109\u001b[0m         \u001b[38;5;28;01mwith\u001b[39;00m parser(topology_file) \u001b[38;5;28;01mas\u001b[39;00m p:\n",
      "File \u001b[0;32m~/Loc/miniconda3/envs/kinase/lib/python3.10/site-packages/MDAnalysis/core/_get_readers.py:256\u001b[0m, in \u001b[0;36mget_parser_for\u001b[0;34m(filename, format)\u001b[0m\n\u001b[1;32m    244\u001b[0m \u001b[38;5;28;01mexcept\u001b[39;00m \u001b[38;5;167;01mValueError\u001b[39;00m:\n\u001b[1;32m    245\u001b[0m     errmsg \u001b[38;5;241m=\u001b[39m (\n\u001b[1;32m    246\u001b[0m         \u001b[38;5;124m\"\u001b[39m\u001b[38;5;124m'\u001b[39m\u001b[38;5;132;01m{0}\u001b[39;00m\u001b[38;5;124m'\u001b[39m\u001b[38;5;124m isn\u001b[39m\u001b[38;5;124m'\u001b[39m\u001b[38;5;124mt a valid topology format, nor a coordinate format\u001b[39m\u001b[38;5;130;01m\\n\u001b[39;00m\u001b[38;5;124m\"\u001b[39m\n\u001b[1;32m    247\u001b[0m         \u001b[38;5;124m\"\u001b[39m\u001b[38;5;124m   from which a topology can be minimally inferred.\u001b[39m\u001b[38;5;130;01m\\n\u001b[39;00m\u001b[38;5;124m\"\u001b[39m\n\u001b[0;32m   (...)\u001b[0m\n\u001b[1;32m    254\u001b[0m         \u001b[38;5;124m\"\u001b[39m\u001b[38;5;124m   https://github.com/MDAnalysis/mdanalysis/issues\u001b[39m\u001b[38;5;124m\"\u001b[39m\u001b[38;5;241m.\u001b[39mformat(\n\u001b[1;32m    255\u001b[0m             \u001b[38;5;28mformat\u001b[39m, _PARSERS\u001b[38;5;241m.\u001b[39mkeys()))\n\u001b[0;32m--> 256\u001b[0m     \u001b[38;5;28;01mraise\u001b[39;00m \u001b[38;5;167;01mValueError\u001b[39;00m(errmsg) \u001b[38;5;28;01mfrom\u001b[39;00m \u001b[38;5;28;01mNone\u001b[39;00m\n\u001b[1;32m    257\u001b[0m \u001b[38;5;28;01melse\u001b[39;00m:\n\u001b[1;32m    258\u001b[0m     \u001b[38;5;28;01mreturn\u001b[39;00m _PARSERS[\u001b[38;5;124m'\u001b[39m\u001b[38;5;124mMINIMAL\u001b[39m\u001b[38;5;124m'\u001b[39m]\n",
      "\u001b[0;31mValueError\u001b[0m: 'H5' isn't a valid topology format, nor a coordinate format\n   from which a topology can be minimally inferred.\n   You can use 'Universe(topology, ..., topology_format=FORMAT)'\n   to explicitly specify the format and\n   override automatic detection. Known FORMATs are:\n   dict_keys(['PSF', 'TOP', 'PRMTOP', 'PARM7', 'PDB', 'ENT', 'XPDB', 'PQR', 'GRO', 'CRD', 'PDBQT', 'DMS', 'TPR', 'MOL2', 'DATA', 'LAMMPSDUMP', 'XYZ', 'TXYZ', 'ARC', 'GMS', 'CONFIG', 'HISTORY', 'XML', 'MMTF', 'GSD', 'MINIMAL', 'ITP', 'IN', 'FHIAIMS', 'PARMED', 'RDKIT', 'OPENMMTOPOLOGY', 'OPENMMAPP'])\n   See https://docs.mdanalysis.org/documentation_pages/topology/init.html#supported-topology-formats\n   For missing formats, raise an issue at \n   https://github.com/MDAnalysis/mdanalysis/issues"
     ]
    }
   ],
   "source": [
    "save_example_with_property(\"./data_egfr/msm/dunbrack_studies/lag100_random_trials/61/MS_0.pdb\", score, 'rmsd_diff_dfg-in-out.pdb')"
   ]
  },
  {
   "cell_type": "code",
   "execution_count": null,
   "metadata": {},
   "outputs": [],
   "source": []
  }
 ],
 "metadata": {
  "kernelspec": {
   "display_name": "kinase",
   "language": "python",
   "name": "python3"
  },
  "language_info": {
   "codemirror_mode": {
    "name": "ipython",
    "version": 3
   },
   "file_extension": ".py",
   "mimetype": "text/x-python",
   "name": "python",
   "nbconvert_exporter": "python",
   "pygments_lexer": "ipython3",
   "version": "3.10.0"
  }
 },
 "nbformat": 4,
 "nbformat_minor": 2
}
