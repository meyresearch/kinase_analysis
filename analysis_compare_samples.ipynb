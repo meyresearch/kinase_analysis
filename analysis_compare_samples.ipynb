{
 "cells": [
  {
   "cell_type": "code",
   "execution_count": 3,
   "metadata": {},
   "outputs": [],
   "source": [
    "import mdtraj as md\n",
    "import MDAnalysis as mda\n",
    "import numpy as np\n",
    "from scipy.stats import ttest_ind_from_stats\n",
    "\n",
    "from tqdm import tqdm\n",
    "from pathlib import Path\n",
    "import os\n",
    "from natsort import natsorted\n",
    "import pandas as pd\n",
    "from addict import Dict as Adict\n",
    "\n",
    "import pyemma as pm\n",
    "import deeptime as dt\n",
    "import deeptime.markov.msm as msm\n",
    "import deeptime.markov.hmm as hmm\n",
    "\n",
    "from deeptime.plots import plot_implied_timescales, plot_energy2d, plot_contour2d_from_xyz\n",
    "from deeptime.markov.sample import *\n",
    "from deeptime.markov import TransitionCountEstimator\n",
    "from deeptime.util import energy2d\n",
    "\n",
    "import matplotlib as mpl\n",
    "import matplotlib.pyplot as plt\n",
    "import matplotlib.colors as colors\n",
    "import seaborn as sns\n",
    "\n",
    "from funcs_build_msm import _tica, _kmeans, get_data\n",
    "from funcs_validate_msm import *\n",
    "from funcs_sample import *\n",
    "from funcs_plotting import *\n",
    "from funcs_characterise import *\n",
    "from paths import *"
   ]
  },
  {
   "cell_type": "code",
   "execution_count": 4,
   "metadata": {},
   "outputs": [],
   "source": [
    "study_name = 'n_clusters'\n",
    "hp_id = 1\n",
    "savedir = Path(f'data_egfr/msm/validation/{study_name}_hp{hp_id}_validate')\n",
    "\n",
    "n_states = 6"
   ]
  },
  {
   "cell_type": "markdown",
   "metadata": {},
   "source": [
    "### Compute the RMSDs within each sampled states"
   ]
  },
  {
   "cell_type": "code",
   "execution_count": null,
   "metadata": {},
   "outputs": [],
   "source": [
    "for state_i in range(n_states):\n",
    "    rmsd_mean, rmsd_std = cal_within_state_rmsd(md.load(savedir/f'MS_{state_i+1}.pdb'))\n",
    "    save_example_with_property(savedir/f'MS_{state_i+1}.pdb', rmsd_mean, savedir/f'MS_{state_i+1}_rmsd_mean.pdb')"
   ]
  },
  {
   "cell_type": "markdown",
   "metadata": {},
   "source": [
    "### Compute the different scores between every two pairs of states"
   ]
  },
  {
   "cell_type": "code",
   "execution_count": 5,
   "metadata": {},
   "outputs": [],
   "source": [
    "samples = [md.load(savedir/f'MS_{state_i+1}.pdb') for state_i in range(n_states)]\n",
    "scores = []"
   ]
  },
  {
   "cell_type": "code",
   "execution_count": 38,
   "metadata": {},
   "outputs": [
    {
     "name": "stdout",
     "output_type": "stream",
     "text": [
      "0\n",
      "1\n",
      "2\n",
      "3\n",
      "4\n",
      "5\n",
      "1\n",
      "2\n",
      "3\n",
      "4\n",
      "5\n",
      "2\n",
      "3\n",
      "4\n",
      "5\n",
      "3\n",
      "4\n",
      "5\n",
      "4\n",
      "5\n",
      "5\n"
     ]
    }
   ],
   "source": [
    "res_scores = []\n",
    "\n",
    "for i in range(n_states):\n",
    "    print(i)\n",
    "    res_scores.append([])\n",
    "    rmsd_mean_i, rmsd_std_i = cal_within_state_rmsd(samples[i])\n",
    "    for j in range(n_states):\n",
    "        if j > i:\n",
    "            print(j)\n",
    "            rmsd_mean_j, rmsd_std_j = cal_within_state_rmsd(samples[j])\n",
    "            rmsd_mean_ij, rmsd_std_ij = cal_between_states_rmsd(samples[i], samples[j])\n",
    "            res_scores[i].append(cal_between_states_diff(rmsd_mean_ij, rmsd_std_i, rmsd_std_j))"
   ]
  },
  {
   "cell_type": "code",
   "execution_count": 42,
   "metadata": {},
   "outputs": [
    {
     "data": {
      "text/plain": [
       "array([0.06081811, 0.14064138, 0.27105602, 0.29951664, 0.30701242,\n",
       "       0.23471415, 0.19009224, 0.20416561, 0.26885578, 0.22991652,\n",
       "       0.18764016, 0.1883268 , 0.16138029, 0.15154013, 0.12942757,\n",
       "       0.11560587, 0.09755897, 0.06928828, 0.06438298, 0.06837926,\n",
       "       0.09348713, 0.10200429, 0.1288904 , 0.16660005, 0.21749881,\n",
       "       0.20197073, 0.22522704, 0.22839701, 0.20949871, 0.22172158,\n",
       "       0.13831426, 0.06693547, 0.03269809, 0.04769845, 0.06263318,\n",
       "       0.09022541, 0.12733271, 0.18807006, 0.21523726, 0.2310803 ,\n",
       "       0.26563426, 0.30046725, 0.30188168, 0.22015786, 0.13987225,\n",
       "       0.05583059, 0.02851513, 0.00982116, 0.        , 0.01654207,\n",
       "       0.04772185, 0.12201295, 0.13445244, 0.11246471, 0.13121728,\n",
       "       0.13593265, 0.15435705, 0.16867773, 0.13988637, 0.20993522,\n",
       "       0.34178979, 0.24086879, 0.22505938, 0.3076943 , 0.26653167,\n",
       "       0.16889534, 0.26373586, 0.38844449, 0.44021324, 0.35844743,\n",
       "       0.50123678, 0.48906884, 0.49325903, 0.4432007 , 0.43834062,\n",
       "       0.49672835, 0.49442497, 0.4108562 , 0.17736045, 0.07399984,\n",
       "       0.13133328, 0.08981536, 0.1356306 , 0.27489917, 0.32089526,\n",
       "       0.37383713, 0.50484263, 0.39089174, 0.29210595, 0.3870314 ,\n",
       "       0.26705381, 0.17722422, 0.20086309, 0.24967271, 0.29398871,\n",
       "       0.37476607, 0.37427675, 0.339449  , 0.35192651, 0.33285445,\n",
       "       0.31542166, 0.25041813, 0.35748569, 0.26220074, 0.21873458,\n",
       "       0.33329447, 0.27889552, 0.23780429, 0.31003149, 0.21168032,\n",
       "       0.62039518, 0.66490279, 0.75200648, 0.57626924, 0.6815413 ,\n",
       "       0.8603721 , 1.        , 0.83566637, 0.87198287, 0.93848877,\n",
       "       0.72258944, 0.61204528, 0.56971443, 0.55841455, 0.41527041,\n",
       "       0.31864061, 0.34568234, 0.27013426, 0.14716094, 0.21255626,\n",
       "       0.20387753, 0.25201505, 0.2342814 , 0.1784403 , 0.33066645,\n",
       "       0.41233313, 0.33957669, 0.39427742, 0.38099849, 0.39305676,\n",
       "       0.32434864, 0.33498163, 0.25645586, 0.2220053 , 0.28745078,\n",
       "       0.40119255, 0.43798604, 0.39884827, 0.41745363, 0.36840442,\n",
       "       0.44127757, 0.37046951, 0.38102799, 0.32204582, 0.17103038,\n",
       "       0.20461695, 0.15096787, 0.16875935, 0.12318725, 0.09997641,\n",
       "       0.07720118, 0.03953055, 0.03525118, 0.06283877, 0.07013645,\n",
       "       0.10301436, 0.17347919, 0.15843815, 0.12728665, 0.09963308,\n",
       "       0.08504595, 0.11438422, 0.09556018, 0.13647403, 0.17809036,\n",
       "       0.29530239, 0.38439379, 0.30318026, 0.38630213, 0.44777827,\n",
       "       0.44532579, 0.30999699, 0.31771064, 0.24202105, 0.21735574,\n",
       "       0.19721941, 0.14555336, 0.14995596, 0.18437583, 0.1953846 ,\n",
       "       0.23955024, 0.3170928 , 0.40877383, 0.55880329, 0.68175316,\n",
       "       0.5396649 , 0.55994839, 0.4908142 , 0.55452646, 0.52577197,\n",
       "       0.56990667, 0.59351417, 0.46945864, 0.3848688 , 0.42477321,\n",
       "       0.45992672, 0.39429924, 0.2864234 , 0.34718599, 0.39755148,\n",
       "       0.30224862, 0.27318996, 0.24256386, 0.12619595, 0.11137511,\n",
       "       0.17101078, 0.16429545, 0.18024183, 0.15401705, 0.15436608,\n",
       "       0.17270108, 0.13416521, 0.13663733, 0.18592114, 0.17793233,\n",
       "       0.14854816, 0.17610206, 0.19324834, 0.22825055, 0.37706558,\n",
       "       0.41940038, 0.40764881, 0.44556794, 0.42755435, 0.28721651,\n",
       "       0.48996606, 0.54372035, 0.50416755, 0.50570104, 0.61368738,\n",
       "       0.71159582, 0.57923452, 0.50923755, 0.54889022, 0.57933168,\n",
       "       0.54463721, 0.62777922, 0.60760893, 0.502012  , 0.43220333,\n",
       "       0.33843503, 0.32283696, 0.28154696, 0.34710066, 0.28868797,\n",
       "       0.52178132, 0.57819406, 0.56803386, 0.58906278, 0.43927102,\n",
       "       0.39415277, 0.60507373, 0.49820852, 0.46054341, 0.4982692 ,\n",
       "       0.5238354 , 0.5351217 , 0.55913597, 0.55081035, 0.34445004,\n",
       "       0.17840569, 0.21213558, 0.34286583, 0.24393087, 0.2061067 ,\n",
       "       0.33856967, 0.32783618, 0.30893072, 0.13663623, 0.06332735])"
      ]
     },
     "execution_count": 42,
     "metadata": {},
     "output_type": "execute_result"
    }
   ],
   "source": [
    "res_scores[0][1]"
   ]
  },
  {
   "cell_type": "code",
   "execution_count": 46,
   "metadata": {},
   "outputs": [
    {
     "name": "stderr",
     "output_type": "stream",
     "text": [
      "/home/rzhu/Loc/miniconda3/envs/kinase/lib/python3.10/site-packages/MDAnalysis/coordinates/PDB.py:777: UserWarning: Unit cell dimensions not found. CRYST1 record set to unitary values.\n",
      "  warnings.warn(\"Unit cell dimensions not found. \"\n",
      "/home/rzhu/Loc/miniconda3/envs/kinase/lib/python3.10/site-packages/MDAnalysis/coordinates/PDB.py:1153: UserWarning: Found no information for attr: 'formalcharges' Using default value of '0'\n",
      "  warnings.warn(\"Found no information for attr: '{}'\"\n"
     ]
    }
   ],
   "source": [
    "for i in range(n_states):\n",
    "    for j in range(n_states-i-1):\n",
    "            save_example_with_property(savedir/f'MS_{i+1}.pdb', res_scores[i][j], savedir/f'MS_{i+1}_{j+i+2}_score.pdb')"
   ]
  },
  {
   "cell_type": "markdown",
   "metadata": {},
   "source": [
    "### Inspect samples of dfg states"
   ]
  },
  {
   "cell_type": "code",
   "execution_count": 3,
   "metadata": {},
   "outputs": [],
   "source": [
    "dfg_in_mean, dfg_in_std = cal_within_state_rmsd(dfg_in_samples)\n",
    "dfg_out_mean, dfg_out_std = cal_within_state_rmsd(dfg_out_samples)\n",
    "in_out_mean, in_out_std = cal_between_states_rmsd(dfg_in_samples, dfg_out_samples)\n",
    "score = cal_between_states_diff(in_out_mean, dfg_in_std, dfg_out_std)"
   ]
  },
  {
   "cell_type": "code",
   "execution_count": 4,
   "metadata": {},
   "outputs": [
    {
     "name": "stderr",
     "output_type": "stream",
     "text": [
      "/home/rzhu/Loc/miniconda3/envs/kinase/lib/python3.10/site-packages/MDAnalysis/coordinates/PDB.py:777: UserWarning: Unit cell dimensions not found. CRYST1 record set to unitary values.\n",
      "  warnings.warn(\"Unit cell dimensions not found. \"\n",
      "/home/rzhu/Loc/miniconda3/envs/kinase/lib/python3.10/site-packages/MDAnalysis/coordinates/PDB.py:1153: UserWarning: Found no information for attr: 'formalcharges' Using default value of '0'\n",
      "  warnings.warn(\"Found no information for attr: '{}'\"\n"
     ]
    }
   ],
   "source": [
    "save_example_with_property(\"./data_egfr/msm/dunbrack_studies/lag100_random_trials/61/MS_0.pdb\", score, 'rmsd_diff_dfg-in-out.pdb')"
   ]
  },
  {
   "cell_type": "code",
   "execution_count": null,
   "metadata": {},
   "outputs": [],
   "source": [
    "save_example_with_property(\"./data_egfr/msm/dunbrack_studies/lag100_random_trials/61/MS_0.pdb\", score, 'rmsd_diff_dfg-in-out.pdb')"
   ]
  },
  {
   "cell_type": "code",
   "execution_count": null,
   "metadata": {},
   "outputs": [],
   "source": [
    "save_example_with_property(\"./data_egfr/msm/dunbrack_studies/lag100_random_trials/61/MS_0.pdb\", score, 'rmsd_diff_dfg-in-out.pdb')"
   ]
  }
 ],
 "metadata": {
  "kernelspec": {
   "display_name": "kinase",
   "language": "python",
   "name": "python3"
  },
  "language_info": {
   "codemirror_mode": {
    "name": "ipython",
    "version": 3
   },
   "file_extension": ".py",
   "mimetype": "text/x-python",
   "name": "python",
   "nbconvert_exporter": "python",
   "pygments_lexer": "ipython3",
   "version": "3.10.0"
  }
 },
 "nbformat": 4,
 "nbformat_minor": 2
}
