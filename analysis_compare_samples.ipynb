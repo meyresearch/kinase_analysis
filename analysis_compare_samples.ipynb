{
 "cells": [
  {
   "cell_type": "code",
   "execution_count": 1,
   "metadata": {},
   "outputs": [
    {
     "name": "stderr",
     "output_type": "stream",
     "text": [
      "/home/rzhu/Loc/miniconda3/envs/kinase/lib/python3.10/site-packages/tqdm/auto.py:21: TqdmWarning: IProgress not found. Please update jupyter and ipywidgets. See https://ipywidgets.readthedocs.io/en/stable/user_install.html\n",
      "  from .autonotebook import tqdm as notebook_tqdm\n"
     ]
    }
   ],
   "source": [
    "import numpy as np\n",
    "import MDAnalysis as mda\n",
    "import mdtraj as md\n",
    "\n",
    "from funcs_characterise import *\n",
    "from paths import *\n",
    "\n",
    "from pathlib import Path\n",
    "import os"
   ]
  },
  {
   "cell_type": "code",
   "execution_count": 2,
   "metadata": {},
   "outputs": [],
   "source": [
    "dfg_in_samples = md.load(\"./data_egfr/msm/dunbrack_studies/lag100_random_trials/61/MS_0.pdb\")\n",
    "dfg_out_samples = md.load(\"./data_egfr/msm/dunbrack_studies/lag100_random_trials/61/MS_1.pdb\")"
   ]
  },
  {
   "cell_type": "code",
   "execution_count": 3,
   "metadata": {},
   "outputs": [],
   "source": [
    "dfg_in_mean, dfg_in_std = cal_within_state_rmsd(dfg_in_samples)\n",
    "dfg_out_mean, dfg_out_std = cal_within_state_rmsd(dfg_out_samples)\n",
    "in_out_mean, in_out_std = cal_between_states_rmsd(dfg_in_samples, dfg_out_samples)\n",
    "score = cal_between_states_diff(in_out_mean, dfg_in_std, dfg_out_std)"
   ]
  },
  {
   "cell_type": "code",
   "execution_count": 4,
   "metadata": {},
   "outputs": [
    {
     "name": "stderr",
     "output_type": "stream",
     "text": [
      "/home/rzhu/Loc/miniconda3/envs/kinase/lib/python3.10/site-packages/MDAnalysis/coordinates/PDB.py:777: UserWarning: Unit cell dimensions not found. CRYST1 record set to unitary values.\n",
      "  warnings.warn(\"Unit cell dimensions not found. \"\n",
      "/home/rzhu/Loc/miniconda3/envs/kinase/lib/python3.10/site-packages/MDAnalysis/coordinates/PDB.py:1153: UserWarning: Found no information for attr: 'formalcharges' Using default value of '0'\n",
      "  warnings.warn(\"Found no information for attr: '{}'\"\n"
     ]
    }
   ],
   "source": [
    "save_example_with_property(\"./data_egfr/msm/dunbrack_studies/lag100_random_trials/61/MS_0.pdb\", score, 'rmsd_diff_dfg-in-out.pdb')"
   ]
  },
  {
   "cell_type": "code",
   "execution_count": null,
   "metadata": {},
   "outputs": [],
   "source": [
    "save_example_with_property(\"./data_egfr/msm/dunbrack_studies/lag100_random_trials/61/MS_0.pdb\", score, 'rmsd_diff_dfg-in-out.pdb')"
   ]
  },
  {
   "cell_type": "code",
   "execution_count": null,
   "metadata": {},
   "outputs": [],
   "source": [
    "save_example_with_property(\"./data_egfr/msm/dunbrack_studies/lag100_random_trials/61/MS_0.pdb\", score, 'rmsd_diff_dfg-in-out.pdb')"
   ]
  }
 ],
 "metadata": {
  "kernelspec": {
   "display_name": "kinase",
   "language": "python",
   "name": "python3"
  },
  "language_info": {
   "codemirror_mode": {
    "name": "ipython",
    "version": 3
   },
   "file_extension": ".py",
   "mimetype": "text/x-python",
   "name": "python",
   "nbconvert_exporter": "python",
   "pygments_lexer": "ipython3",
   "version": "3.10.0"
  }
 },
 "nbformat": 4,
 "nbformat_minor": 2
}
