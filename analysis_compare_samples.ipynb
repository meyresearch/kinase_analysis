{
 "cells": [
  {
   "cell_type": "code",
   "execution_count": 47,
   "metadata": {},
   "outputs": [],
   "source": [
    "import mdtraj as md\n",
    "import MDAnalysis as mda\n",
    "import numpy as np\n",
    "from scipy.stats import ttest_ind_from_stats\n",
    "\n",
    "from tqdm import tqdm\n",
    "from pathlib import Path\n",
    "import os\n",
    "from natsort import natsorted\n",
    "import pandas as pd\n",
    "from addict import Dict as Adict\n",
    "\n",
    "import pyemma as pm\n",
    "import deeptime as dt\n",
    "import deeptime.markov.msm as msm\n",
    "import deeptime.markov.hmm as hmm\n",
    "\n",
    "from deeptime.plots import plot_implied_timescales, plot_energy2d, plot_contour2d_from_xyz\n",
    "from deeptime.markov.sample import *\n",
    "from deeptime.markov import TransitionCountEstimator\n",
    "from deeptime.util import energy2d\n",
    "\n",
    "import matplotlib as mpl\n",
    "import matplotlib.pyplot as plt\n",
    "import matplotlib.colors as colors\n",
    "import seaborn as sns\n",
    "\n",
    "from funcs_build_msm import _tica, _kmeans, get_data\n",
    "from funcs_validate_msm import *\n",
    "from funcs_sample import *\n",
    "from funcs_plotting import *\n",
    "from funcs_characterise import *\n",
    "from paths import *"
   ]
  },
  {
   "cell_type": "code",
   "execution_count": 49,
   "metadata": {},
   "outputs": [],
   "source": [
    "study_name = 'n_clusters'\n",
    "hp_id = 0\n",
    "savedir = Path(f'data_egfr/msm/validation/{study_name}_hp{hp_id}_validate')\n",
    "\n",
    "n_states = 6"
   ]
  },
  {
   "cell_type": "markdown",
   "metadata": {},
   "source": [
    "### Compute the RMSDs within each sampled states"
   ]
  },
  {
   "cell_type": "code",
   "execution_count": 50,
   "metadata": {},
   "outputs": [],
   "source": [
    "for state_i in range(n_states):\n",
    "    rmsd_mean, rmsd_std = cal_within_state_rmsd(md.load(savedir/f'MS_{state_i+1}.pdb'))\n",
    "    save_example_with_property(savedir/f'MS_{state_i+1}.pdb', rmsd_mean, savedir/f'MS_{state_i+1}_rmsd_mean.pdb')"
   ]
  },
  {
   "cell_type": "markdown",
   "metadata": {},
   "source": [
    "### Compute the different scores between every two pairs of states"
   ]
  },
  {
   "cell_type": "code",
   "execution_count": 51,
   "metadata": {},
   "outputs": [],
   "source": [
    "samples = [md.load(savedir/f'MS_{state_i+1}.pdb') for state_i in range(n_states)]\n",
    "scores = []"
   ]
  },
  {
   "cell_type": "code",
   "execution_count": 52,
   "metadata": {},
   "outputs": [],
   "source": [
    "res_scores = []\n",
    "\n",
    "for i in range(n_states):\n",
    "    res_scores.append([])\n",
    "    rmsd_mean_i, rmsd_std_i = cal_within_state_rmsd(samples[i])\n",
    "    for j in range(n_states):\n",
    "        if j > i:\n",
    "            rmsd_mean_j, rmsd_std_j = cal_within_state_rmsd(samples[j])\n",
    "            rmsd_mean_ij, rmsd_std_ij = cal_between_states_rmsd(samples[i], samples[j])\n",
    "            res_scores[i].append(cal_between_states_diff(rmsd_mean_ij, rmsd_std_i, rmsd_std_j))"
   ]
  },
  {
   "cell_type": "code",
   "execution_count": 53,
   "metadata": {},
   "outputs": [],
   "source": [
    "for i in range(n_states):\n",
    "    for j in range(n_states-i-1):\n",
    "            save_example_with_property(savedir/f'MS_{i+1}.pdb', res_scores[i][j], savedir/f'MS_{i+1}_{j+i+2}_score.pdb')"
   ]
  },
  {
   "cell_type": "code",
   "execution_count": 54,
   "metadata": {},
   "outputs": [
    {
     "data": {
      "text/plain": [
       "array([0.04765154, 0.14540334, 0.29164919, 0.35498241, 0.36290987,\n",
       "       0.26320927, 0.22450082, 0.16554016, 0.28733089, 0.28417404,\n",
       "       0.30377695, 0.25727489, 0.1820081 , 0.17873304, 0.12497637,\n",
       "       0.09740564, 0.09242351, 0.05942848, 0.04837592, 0.03339426,\n",
       "       0.0303492 , 0.05950953, 0.1227501 , 0.22761362, 0.28810782,\n",
       "       0.28631577, 0.31933474, 0.32558648, 0.28968244, 0.21856643,\n",
       "       0.17651488, 0.11610397, 0.05468467, 0.06141113, 0.03937182,\n",
       "       0.0982999 , 0.12796131, 0.24987585, 0.27143079, 0.3678026 ,\n",
       "       0.59038795, 0.52876054, 0.56202206, 0.35389423, 0.14562079,\n",
       "       0.05489738, 0.02942193, 0.00181923, 0.        , 0.01086357,\n",
       "       0.0235109 , 0.01781174, 0.02064098, 0.07862881, 0.11277583,\n",
       "       0.09924489, 0.11317164, 0.24125443, 0.18057042, 0.26605608,\n",
       "       0.28688535, 0.17760164, 0.17369878, 0.23045313, 0.27620906,\n",
       "       0.2086982 , 0.32418448, 0.33544044, 0.43925307, 0.44639956,\n",
       "       0.62426591, 0.61046725, 0.57687086, 0.47442076, 0.49783859,\n",
       "       0.55399784, 0.54796323, 0.55826387, 0.3455774 , 0.17562937,\n",
       "       0.09230827, 0.08624325, 0.15755947, 0.47569771, 0.36594675,\n",
       "       0.55522415, 0.61230655, 0.53747879, 0.27541396, 0.33398243,\n",
       "       0.2954819 , 0.15478508, 0.23333252, 0.29544781, 0.36106125,\n",
       "       0.4889509 , 0.50458901, 0.30953303, 0.27915304, 0.30917323,\n",
       "       0.22678779, 0.20405865, 0.28647581, 0.29938367, 0.18924717,\n",
       "       0.27768997, 0.26658401, 0.22705281, 0.3242256 , 0.23292396,\n",
       "       0.26973456, 0.48119278, 0.61832164, 0.46017201, 0.56303548,\n",
       "       0.67351721, 0.75679246, 0.76426339, 0.84120933, 0.68942893,\n",
       "       0.70117538, 0.74062107, 0.60709995, 0.60656266, 0.66113045,\n",
       "       0.76031312, 0.52627232, 0.49828281, 0.52890205, 0.51034948,\n",
       "       0.78601302, 0.56246261, 0.68152166, 0.17773518, 0.07080119,\n",
       "       0.34754758, 0.58207279, 0.58851494, 0.65072872, 0.83178772,\n",
       "       0.78912342, 0.53656727, 0.3560478 , 0.30791919, 0.29958772,\n",
       "       0.24498756, 0.27887335, 0.38744849, 0.55133267, 0.81418133,\n",
       "       0.96964998, 0.98581143, 0.73969017, 0.54417263, 0.39450598,\n",
       "       0.55650588, 0.5592483 , 0.65231804, 0.3439292 , 0.19954459,\n",
       "       0.11927244, 0.12083858, 0.13195997, 0.17226099, 0.06715298,\n",
       "       0.0970582 , 0.07177271, 0.08469301, 0.01821495, 0.00876377,\n",
       "       0.03776354, 0.07129006, 0.09830448, 0.14531825, 0.30828321,\n",
       "       0.36333241, 0.27356569, 0.45423267, 0.36944208, 0.33487032,\n",
       "       0.31878539, 0.2943663 , 0.3586829 , 0.28440247, 0.21125766,\n",
       "       0.2276475 , 0.18751689, 0.15715886, 0.10030238, 0.20274187,\n",
       "       0.26504956, 0.28113803, 0.48441243, 0.74127397, 0.83817266,\n",
       "       0.61058446, 0.7146177 , 1.        , 0.90722752, 0.89406618,\n",
       "       0.91381618, 0.90429883, 0.95905235, 0.84350466, 0.79865702,\n",
       "       0.82544804, 0.62040571, 0.51412989, 0.56704401, 0.64481741,\n",
       "       0.51376874, 0.52419069, 0.36816819, 0.26040164, 0.13330129,\n",
       "       0.18273107, 0.14371058, 0.13363706, 0.14561691, 0.18273881,\n",
       "       0.17041648, 0.14388185, 0.15426989, 0.19294824, 0.15420504,\n",
       "       0.12850633, 0.14358792, 0.15483615, 0.18849067, 0.2605471 ,\n",
       "       0.32841574, 0.35898912, 0.44149072, 0.61920785, 0.35396281,\n",
       "       0.36015493, 0.39459738, 0.40896026, 0.42960368, 0.37864678,\n",
       "       0.52420921, 0.5302495 , 0.48164543, 0.69894975, 0.69370109,\n",
       "       0.42662748, 0.45631937, 0.48682931, 0.36843896, 0.32009648,\n",
       "       0.22776789, 0.23200178, 0.19325658, 0.21361005, 0.29155388,\n",
       "       0.33166972, 0.36158157, 0.37710194, 0.44785758, 0.4383174 ,\n",
       "       0.38246814, 0.4601622 , 0.48255615, 0.344952  , 0.45957571,\n",
       "       0.5043387 , 0.34403083, 0.28132049, 0.48013891, 0.32527744,\n",
       "       0.21856898, 0.3231779 , 0.31572907, 0.22763549, 0.2021524 ,\n",
       "       0.37927692, 0.28096972, 0.18144354, 0.04813619, 0.04949493])"
      ]
     },
     "execution_count": 54,
     "metadata": {},
     "output_type": "execute_result"
    }
   ],
   "source": [
    "res_scores[4][0]"
   ]
  },
  {
   "cell_type": "markdown",
   "metadata": {},
   "source": [
    "### Inspect samples of dfg states"
   ]
  },
  {
   "cell_type": "code",
   "execution_count": 3,
   "metadata": {},
   "outputs": [],
   "source": [
    "dfg_in_mean, dfg_in_std = cal_within_state_rmsd(dfg_in_samples)\n",
    "dfg_out_mean, dfg_out_std = cal_within_state_rmsd(dfg_out_samples)\n",
    "in_out_mean, in_out_std = cal_between_states_rmsd(dfg_in_samples, dfg_out_samples)\n",
    "score = cal_between_states_diff(in_out_mean, dfg_in_std, dfg_out_std)"
   ]
  },
  {
   "cell_type": "code",
   "execution_count": 4,
   "metadata": {},
   "outputs": [
    {
     "name": "stderr",
     "output_type": "stream",
     "text": [
      "/home/rzhu/Loc/miniconda3/envs/kinase/lib/python3.10/site-packages/MDAnalysis/coordinates/PDB.py:777: UserWarning: Unit cell dimensions not found. CRYST1 record set to unitary values.\n",
      "  warnings.warn(\"Unit cell dimensions not found. \"\n",
      "/home/rzhu/Loc/miniconda3/envs/kinase/lib/python3.10/site-packages/MDAnalysis/coordinates/PDB.py:1153: UserWarning: Found no information for attr: 'formalcharges' Using default value of '0'\n",
      "  warnings.warn(\"Found no information for attr: '{}'\"\n"
     ]
    }
   ],
   "source": [
    "save_example_with_property(\"./data_egfr/msm/dunbrack_studies/lag100_random_trials/61/MS_0.pdb\", score, 'rmsd_diff_dfg-in-out.pdb')"
   ]
  },
  {
   "cell_type": "code",
   "execution_count": null,
   "metadata": {},
   "outputs": [],
   "source": [
    "save_example_with_property(\"./data_egfr/msm/dunbrack_studies/lag100_random_trials/61/MS_0.pdb\", score, 'rmsd_diff_dfg-in-out.pdb')"
   ]
  },
  {
   "cell_type": "code",
   "execution_count": null,
   "metadata": {},
   "outputs": [],
   "source": [
    "save_example_with_property(\"./data_egfr/msm/dunbrack_studies/lag100_random_trials/61/MS_0.pdb\", score, 'rmsd_diff_dfg-in-out.pdb')"
   ]
  }
 ],
 "metadata": {
  "kernelspec": {
   "display_name": "kinase",
   "language": "python",
   "name": "python3"
  },
  "language_info": {
   "codemirror_mode": {
    "name": "ipython",
    "version": 3
   },
   "file_extension": ".py",
   "mimetype": "text/x-python",
   "name": "python",
   "nbconvert_exporter": "python",
   "pygments_lexer": "ipython3",
   "version": "3.10.0"
  }
 },
 "nbformat": 4,
 "nbformat_minor": 2
}
