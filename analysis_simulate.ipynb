{
 "cells": [
  {
   "cell_type": "code",
   "execution_count": 1,
   "metadata": {},
   "outputs": [
    {
     "name": "stderr",
     "output_type": "stream",
     "text": [
      "/home/rzhu/Loc/miniconda3/envs/kinase/lib/python3.10/site-packages/tqdm/auto.py:21: TqdmWarning: IProgress not found. Please update jupyter and ipywidgets. See https://ipywidgets.readthedocs.io/en/stable/user_install.html\n",
      "  from .autonotebook import tqdm as notebook_tqdm\n"
     ]
    }
   ],
   "source": [
    "import mdtraj as md\n",
    "import MDAnalysis as mda\n",
    "import numpy as np\n",
    "from scipy.stats import ttest_ind_from_stats\n",
    "\n",
    "from tqdm import tqdm\n",
    "from pathlib import Path\n",
    "import os\n",
    "from natsort import natsorted\n",
    "import pandas as pd\n",
    "from addict import Dict as Adict\n",
    "\n",
    "import pyemma as pm\n",
    "import deeptime as dt\n",
    "import deeptime.markov.msm as msm\n",
    "import deeptime.markov.hmm as hmm\n",
    "\n",
    "from deeptime.plots import plot_implied_timescales, plot_energy2d, plot_contour2d_from_xyz\n",
    "from deeptime.markov.sample import *\n",
    "from deeptime.markov import TransitionCountEstimator\n",
    "from deeptime.util import energy2d\n",
    "\n",
    "import matplotlib as mpl\n",
    "import matplotlib.pyplot as plt\n",
    "import matplotlib.colors as colors\n",
    "import seaborn as sns\n",
    "\n",
    "from funcs_build_msm import _tica, _kmeans, get_data \n",
    "from funcs_validate_msm import *\n",
    "from funcs_sample import *\n",
    "from funcs_plotting import *\n",
    "from funcs_characterise import *\n",
    "from paths import *"
   ]
  },
  {
   "cell_type": "code",
   "execution_count": 2,
   "metadata": {},
   "outputs": [
    {
     "data": {
      "text/html": [
       "<div>\n",
       "<style scoped>\n",
       "    .dataframe tbody tr th:only-of-type {\n",
       "        vertical-align: middle;\n",
       "    }\n",
       "\n",
       "    .dataframe tbody tr th {\n",
       "        vertical-align: top;\n",
       "    }\n",
       "\n",
       "    .dataframe thead tr th {\n",
       "        text-align: left;\n",
       "    }\n",
       "\n",
       "    .dataframe thead tr:last-of-type th {\n",
       "        text-align: right;\n",
       "    }\n",
       "</style>\n",
       "<table border=\"1\" class=\"dataframe\">\n",
       "  <thead>\n",
       "    <tr>\n",
       "      <th></th>\n",
       "      <th colspan=\"2\" halign=\"left\">t2</th>\n",
       "      <th colspan=\"2\" halign=\"left\">gap_2</th>\n",
       "      <th colspan=\"2\" halign=\"left\">t3</th>\n",
       "      <th colspan=\"2\" halign=\"left\">gap_3</th>\n",
       "    </tr>\n",
       "    <tr>\n",
       "      <th></th>\n",
       "      <th>mean</th>\n",
       "      <th>std</th>\n",
       "      <th>mean</th>\n",
       "      <th>std</th>\n",
       "      <th>mean</th>\n",
       "      <th>std</th>\n",
       "      <th>mean</th>\n",
       "      <th>std</th>\n",
       "    </tr>\n",
       "    <tr>\n",
       "      <th>hp_id</th>\n",
       "      <th></th>\n",
       "      <th></th>\n",
       "      <th></th>\n",
       "      <th></th>\n",
       "      <th></th>\n",
       "      <th></th>\n",
       "      <th></th>\n",
       "      <th></th>\n",
       "    </tr>\n",
       "  </thead>\n",
       "  <tbody>\n",
       "    <tr>\n",
       "      <th>0</th>\n",
       "      <td>4.258766e+06</td>\n",
       "      <td>4.993950e+06</td>\n",
       "      <td>9.877259</td>\n",
       "      <td>10.570731</td>\n",
       "      <td>438539.507225</td>\n",
       "      <td>340220.880011</td>\n",
       "      <td>2.368782</td>\n",
       "      <td>1.164973</td>\n",
       "    </tr>\n",
       "    <tr>\n",
       "      <th>1</th>\n",
       "      <td>2.927477e+06</td>\n",
       "      <td>3.859451e+06</td>\n",
       "      <td>7.083355</td>\n",
       "      <td>7.666884</td>\n",
       "      <td>420395.265777</td>\n",
       "      <td>355997.202171</td>\n",
       "      <td>2.458528</td>\n",
       "      <td>1.548529</td>\n",
       "    </tr>\n",
       "    <tr>\n",
       "      <th>2</th>\n",
       "      <td>3.770089e+06</td>\n",
       "      <td>5.647987e+06</td>\n",
       "      <td>8.087046</td>\n",
       "      <td>10.971600</td>\n",
       "      <td>476668.578812</td>\n",
       "      <td>398473.507520</td>\n",
       "      <td>2.461085</td>\n",
       "      <td>1.242254</td>\n",
       "    </tr>\n",
       "    <tr>\n",
       "      <th>3</th>\n",
       "      <td>3.775350e+06</td>\n",
       "      <td>5.297374e+06</td>\n",
       "      <td>7.257305</td>\n",
       "      <td>8.182101</td>\n",
       "      <td>513894.618174</td>\n",
       "      <td>397912.479254</td>\n",
       "      <td>2.509716</td>\n",
       "      <td>1.214368</td>\n",
       "    </tr>\n",
       "  </tbody>\n",
       "</table>\n",
       "</div>"
      ],
      "text/plain": [
       "                 t2                   gap_2                        t3  \\\n",
       "               mean           std      mean        std           mean   \n",
       "hp_id                                                                   \n",
       "0      4.258766e+06  4.993950e+06  9.877259  10.570731  438539.507225   \n",
       "1      2.927477e+06  3.859451e+06  7.083355   7.666884  420395.265777   \n",
       "2      3.770089e+06  5.647987e+06  8.087046  10.971600  476668.578812   \n",
       "3      3.775350e+06  5.297374e+06  7.257305   8.182101  513894.618174   \n",
       "\n",
       "                         gap_3            \n",
       "                 std      mean       std  \n",
       "hp_id                                     \n",
       "0      340220.880011  2.368782  1.164973  \n",
       "1      355997.202171  2.458528  1.548529  \n",
       "2      398473.507520  2.461085  1.242254  \n",
       "3      397912.479254  2.509716  1.214368  "
      ]
     },
     "execution_count": 2,
     "metadata": {},
     "output_type": "execute_result"
    }
   ],
   "source": [
    "study_name = 'n_clusters'\n",
    "data_path = Path(f'data_egfr/msm/{study_name}')\n",
    "summary_f = data_path/f'{study_name}.h5'\n",
    "hps = pd.read_hdf(summary_f, key='hps')\n",
    "raw = pd.read_hdf(summary_f, key='result_raw')\n",
    "\n",
    "summary = raw.groupby('hp_id')[['t2', 'gap_2', 't3', 'gap_3']].agg(['mean', 'std'])\n",
    "summary"
   ]
  },
  {
   "cell_type": "code",
   "execution_count": 3,
   "metadata": {},
   "outputs": [
    {
     "data": {
      "text/plain": [
       "{'hp_id': 0,\n",
       " 'trajlen__cutoff': 1000,\n",
       " 'n__boot': 20,\n",
       " 'seed': 49587,\n",
       " 'tica__lag': 10,\n",
       " 'tica__stride': 1000,\n",
       " 'tica__dim': 20,\n",
       " 'cluster__k': 1000,\n",
       " 'cluster__stride': 1000,\n",
       " 'cluster__maxiter': 1000,\n",
       " 'markov__lag': 100}"
      ]
     },
     "execution_count": 3,
     "metadata": {},
     "output_type": "execute_result"
    }
   ],
   "source": [
    "hp_id = 0\n",
    "hp_dict = Adict(hps[hps.hp_id == hp_id].to_dict('records')[0])\n",
    "features = ['dbdist', 'dbdihed', 'aloop', 'ploopdihed', 'achelix']\n",
    "\n",
    "savedir = Path(f'data_egfr/msm/validation/{study_name}_hp{hp_id}_validate')\n",
    "savedir.mkdir(exist_ok=True, parents=True)\n",
    "\n",
    "hp_dict"
   ]
  },
  {
   "cell_type": "code",
   "execution_count": 4,
   "metadata": {},
   "outputs": [
    {
     "name": "stdout",
     "output_type": "stream",
     "text": [
      "(1000, 20)\n"
     ]
    },
    {
     "data": {
      "text/plain": [
       "(1000, 1000)"
      ]
     },
     "execution_count": 4,
     "metadata": {},
     "output_type": "execute_result"
    }
   ],
   "source": [
    "kmeans_centres = np.load(savedir/f'kmeans_centers.npy', allow_pickle=True)\n",
    "print(kmeans_centres.shape)\n",
    "tmat = np.load(savedir/f'msm_tmat.npy', allow_pickle=True)\n",
    "tmat.shape"
   ]
  },
  {
   "cell_type": "code",
   "execution_count": 5,
   "metadata": {},
   "outputs": [],
   "source": [
    "stat_dist = dt.markov.tools.analysis.stationary_distribution(tmat)\n",
    "msm_mod = msm.MarkovStateModel(transition_matrix=tmat, stationary_distribution=stat_dist, lagtime=hp_dict.markov__lag)"
   ]
  },
  {
   "cell_type": "markdown",
   "metadata": {},
   "source": [
    "---"
   ]
  },
  {
   "cell_type": "code",
   "execution_count": 12,
   "metadata": {},
   "outputs": [],
   "source": [
    "samples = np.load(savedir/'1_to_5_simulation.npy', allow_pickle=True)\n",
    "save_samples(samples[::10], traj_files, savedir/'transition_1_to_5_simulation.dcd', reference=None)"
   ]
  },
  {
   "cell_type": "code",
   "execution_count": 38,
   "metadata": {},
   "outputs": [],
   "source": [
    "samples = np.load(savedir/'6_to_5_simulation.npy', allow_pickle=True)\n",
    "save_samples(samples[::], traj_files, savedir/'transition_6_to_5_simulation.dcd', reference=None)"
   ]
  },
  {
   "cell_type": "code",
   "execution_count": 36,
   "metadata": {},
   "outputs": [
    {
     "data": {
      "text/plain": [
       "(546, 2)"
      ]
     },
     "execution_count": 36,
     "metadata": {},
     "output_type": "execute_result"
    }
   ],
   "source": [
    "samples = np.load(savedir/'6_to_5_simulation.npy', allow_pickle=True)\n",
    "samples.shape"
   ]
  },
  {
   "cell_type": "code",
   "execution_count": 37,
   "metadata": {},
   "outputs": [
    {
     "data": {
      "text/plain": [
       "(27394, 2)"
      ]
     },
     "execution_count": 37,
     "metadata": {},
     "output_type": "execute_result"
    }
   ],
   "source": [
    "samples = np.load(savedir/'1_to_5_simulation.npy', allow_pickle=True)\n",
    "samples.shape"
   ]
  },
  {
   "cell_type": "code",
   "execution_count": 16,
   "metadata": {},
   "outputs": [],
   "source": [
    "samples = np.load(savedir/'1_to_5_simulation.npy', allow_pickle=True)"
   ]
  },
  {
   "cell_type": "code",
   "execution_count": null,
   "metadata": {},
   "outputs": [],
   "source": []
  }
 ],
 "metadata": {
  "kernelspec": {
   "display_name": "kinase",
   "language": "python",
   "name": "python3"
  },
  "language_info": {
   "codemirror_mode": {
    "name": "ipython",
    "version": 3
   },
   "file_extension": ".py",
   "mimetype": "text/x-python",
   "name": "python",
   "nbconvert_exporter": "python",
   "pygments_lexer": "ipython3",
   "version": "3.10.0"
  }
 },
 "nbformat": 4,
 "nbformat_minor": 2
}
