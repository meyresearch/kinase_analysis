{
 "cells": [
  {
   "cell_type": "code",
   "execution_count": 15,
   "metadata": {},
   "outputs": [],
   "source": [
    "import mdtraj as md\n",
    "import numpy as np\n",
    "\n",
    "import seaborn as sns\n",
    "import matplotlib.pyplot as plt\n",
    "import matplotlib as mpl\n",
    "\n",
    "from funcs_validate_msm import *\n",
    "from paths import *"
   ]
  },
  {
   "cell_type": "code",
   "execution_count": 16,
   "metadata": {},
   "outputs": [],
   "source": [
    "ftrajs_dihed = [np.load(file) for file in ftraj_dihed_files]\n",
    "ftraj = np.concatenate(ftrajs_dihed)\n",
    "\n",
    "xdfg_phi = [ftraj[:, 0] for ftraj in ftrajs_dihed]\n",
    "xdfg_psi = [ftraj[:, 1] for ftraj in ftrajs_dihed]\n",
    "dfgd_phi = [ftraj[:, 2] for ftraj in ftrajs_dihed]\n",
    "dfgd_psi = [ftraj[:, 3] for ftraj in ftrajs_dihed]\n",
    "dfgf_phi = [ftraj[:, 4] for ftraj in ftrajs_dihed]\n",
    "dfgf_psi = [ftraj[:, 5] for ftraj in ftrajs_dihed]\n",
    "dfgg_phi = [ftraj[:, 6] for ftraj in ftrajs_dihed]\n",
    "dfgg_psi = [ftraj[:, 7] for ftraj in ftrajs_dihed]\n",
    "dfgf_chi = [ftraj[:, 8] for ftraj in ftrajs_dihed]"
   ]
  },
  {
   "cell_type": "code",
   "execution_count": 38,
   "metadata": {},
   "outputs": [
    {
     "data": {
      "text/plain": [
       "3472"
      ]
     },
     "execution_count": 38,
     "metadata": {},
     "output_type": "execute_result"
    }
   ],
   "source": [
    "len(ftrajs_dihed)"
   ]
  },
  {
   "cell_type": "code",
   "execution_count": 39,
   "metadata": {},
   "outputs": [
    {
     "data": {
      "text/plain": [
       "36723596"
      ]
     },
     "execution_count": 39,
     "metadata": {},
     "output_type": "execute_result"
    }
   ],
   "source": [
    "len(ftraj)"
   ]
  },
  {
   "cell_type": "code",
   "execution_count": 40,
   "metadata": {},
   "outputs": [],
   "source": [
    "fig, axes = plt.subplots(1,4, figsize=(20, 5), sharey=True, tight_layout=True)\n",
    "\n",
    "axes[0].scatter(np.concatenate(xdfg_phi)[::1000], np.concatenate(xdfg_psi)[::1000], s=1, alpha=0.1)\n",
    "axes[1].scatter(np.concatenate(dfgd_phi)[::1000], np.concatenate(dfgd_psi)[::1000], s=1, alpha=0.1)\n",
    "axes[2].scatter(np.concatenate(dfgf_phi)[::1000], np.concatenate(dfgf_psi)[::1000], s=1, alpha=0.1)\n",
    "axes[3].scatter(np.concatenate(dfgg_phi)[::1000], np.concatenate(dfgg_psi)[::1000], s=1, alpha=0.1)\n",
    "\n",
    "for ax in axes:\n",
    "    ax.tick_params(labelbottom=True, labelleft=False, bottom=True, left=False)\n",
    "axes[0].tick_params(labelleft=True, left=True)"
   ]
  },
  {
   "cell_type": "code",
   "execution_count": null,
   "metadata": {},
   "outputs": [],
   "source": []
  }
 ],
 "metadata": {
  "kernelspec": {
   "display_name": "kinase",
   "language": "python",
   "name": "python3"
  },
  "language_info": {
   "codemirror_mode": {
    "name": "ipython",
    "version": 3
   },
   "file_extension": ".py",
   "mimetype": "text/x-python",
   "name": "python",
   "nbconvert_exporter": "python",
   "pygments_lexer": "ipython3",
   "version": "3.10.0"
  }
 },
 "nbformat": 4,
 "nbformat_minor": 2
}
