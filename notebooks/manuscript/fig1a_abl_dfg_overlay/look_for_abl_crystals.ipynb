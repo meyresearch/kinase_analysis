{
 "cells": [
  {
   "cell_type": "code",
   "execution_count": 2,
   "metadata": {},
   "outputs": [],
   "source": [
    "import mdtraj as md\n",
    "import numpy as np\n",
    "import pandas as pd\n",
    "import sys\n",
    "\n",
    "import seaborn as sns\n",
    "import matplotlib.pyplot as plt\n",
    "import matplotlib as mpl\n",
    "\n",
    "from scipy.cluster.hierarchy import linkage, dendrogram, fcluster\n",
    "from sklearn.cluster import KMeans, DBSCAN\n",
    "from natsort import natsorted\n",
    "from pathlib import Path\n",
    "\n",
    "sys.path.insert(0, '/home/rzhu/Desktop/projects/kinase_analysis/src/')\n",
    "from funcs_featurise import *\n",
    "from funcs_db_assign import *\n",
    "from TrajData import *"
   ]
  },
  {
   "cell_type": "markdown",
   "metadata": {},
   "source": [
    "In this notebook I look for representative crystal structures for DFG-in, out, and inter Abl"
   ]
  },
  {
   "cell_type": "code",
   "execution_count": 3,
   "metadata": {},
   "outputs": [],
   "source": [
    "protein = 'abl'\n",
    "crystal_files = natsorted([str(f) for f in Path(f\"/arc/human_{protein}/\").glob(\"kinoml*.pdb\")])\n",
    "crystal_dbdist = np.array([dbdist_featuriser(md.load(f), protein=protein) for f in crystal_files]).squeeze()\n",
    "crystal_dbdihed = np.array([dbdihed_featuriser(md.load(f), protein=protein) for f in crystal_files]).squeeze()"
   ]
  },
  {
   "cell_type": "code",
   "execution_count": 4,
   "metadata": {},
   "outputs": [],
   "source": [
    "crystal_clusters = assign_dfg_spatial(crystal_dbdist)\n"
   ]
  },
  {
   "cell_type": "code",
   "execution_count": null,
   "metadata": {},
   "outputs": [
    {
     "data": {
      "text/plain": [
       "array([2, 2, 2, 2, 0, 2, 0, 0, 0, 0, 1, 2, 2, 2, 0, 0, 0, 0, 0, 0, 2, 2,\n",
       "       2, 2, 2, 2, 2, 2, 2, 0, 0, 0, 2, 2, 2, 2, 0, 0, 2, 2, 2, 2, 2, 2,\n",
       "       2, 2, 2, 2, 2, 2, 2, 2, 2, 2, 2, 2, 2, 2, 0, 0, 2, 1, 1, 2, 2, 1,\n",
       "       2, 2, 2, 2, 2, 1, 1, 1, 2, 2, 2, 2, 2, 2, 2, 2, 2])"
      ]
     },
     "execution_count": 5,
     "metadata": {},
     "output_type": "execute_result"
    }
   ],
   "source": [
    "crystal_clusters"
   ]
  },
  {
   "cell_type": "code",
   "execution_count": 9,
   "metadata": {},
   "outputs": [
    {
     "data": {
      "text/plain": [
       "array([ 4,  6,  7,  8,  9, 14, 15, 16, 17, 18, 19, 29, 30, 31, 36, 37, 58,\n",
       "       59])"
      ]
     },
     "execution_count": 9,
     "metadata": {},
     "output_type": "execute_result"
    }
   ],
   "source": [
    "np.where(crystal_clusters == 0)[0]"
   ]
  },
  {
   "cell_type": "code",
   "execution_count": 17,
   "metadata": {},
   "outputs": [
    {
     "name": "stdout",
     "output_type": "stream",
     "text": [
      "/arc/human_abl/kinoml_OEKLIFSKinaseApoFeaturizer_ABL1_2f4j_chainA_altlocNone_protein.pdb\n",
      "/arc/human_abl/kinoml_OEKLIFSKinaseApoFeaturizer_ABL1_2g1t_chainA_altlocNone_protein.pdb\n",
      "/arc/human_abl/kinoml_OEKLIFSKinaseApoFeaturizer_ABL1_2g1t_chainB_altlocNone_protein.pdb\n",
      "/arc/human_abl/kinoml_OEKLIFSKinaseApoFeaturizer_ABL1_2g1t_chainC_altlocNone_protein.pdb\n",
      "/arc/human_abl/kinoml_OEKLIFSKinaseApoFeaturizer_ABL1_2g1t_chainD_altlocNone_protein.pdb\n",
      "/arc/human_abl/kinoml_OEKLIFSKinaseApoFeaturizer_ABL1_2g2i_chainA_altlocNone_protein.pdb\n",
      "/arc/human_abl/kinoml_OEKLIFSKinaseApoFeaturizer_ABL1_2g2i_chainB_altlocNone_protein.pdb\n",
      "/arc/human_abl/kinoml_OEKLIFSKinaseApoFeaturizer_ABL1_2gqg_chainA_altlocA_protein.pdb\n",
      "/arc/human_abl/kinoml_OEKLIFSKinaseApoFeaturizer_ABL1_2gqg_chainA_altlocB_protein.pdb\n",
      "/arc/human_abl/kinoml_OEKLIFSKinaseApoFeaturizer_ABL1_2gqg_chainB_altlocA_protein.pdb\n",
      "/arc/human_abl/kinoml_OEKLIFSKinaseApoFeaturizer_ABL1_2gqg_chainB_altlocB_protein.pdb\n",
      "/arc/human_abl/kinoml_OEKLIFSKinaseApoFeaturizer_ABL1_2hz4_chainA_altlocNone_protein.pdb\n",
      "/arc/human_abl/kinoml_OEKLIFSKinaseApoFeaturizer_ABL1_2hz4_chainB_altlocNone_protein.pdb\n",
      "/arc/human_abl/kinoml_OEKLIFSKinaseApoFeaturizer_ABL1_2hz4_chainC_altlocNone_protein.pdb\n",
      "/arc/human_abl/kinoml_OEKLIFSKinaseApoFeaturizer_ABL1_2v7a_chainA_altlocNone_protein.pdb\n",
      "/arc/human_abl/kinoml_OEKLIFSKinaseApoFeaturizer_ABL1_2v7a_chainB_altlocNone_protein.pdb\n",
      "/arc/human_abl/kinoml_OEKLIFSKinaseApoFeaturizer_ABL1_4twp_chainA_altlocNone_protein.pdb\n",
      "/arc/human_abl/kinoml_OEKLIFSKinaseApoFeaturizer_ABL1_4twp_chainB_altlocNone_protein.pdb\n"
     ]
    }
   ],
   "source": [
    "# DFG-in\n",
    "print(*[crystal_files[i] for i in np.where(crystal_clusters == 0)[0]], sep='\\n')"
   ]
  },
  {
   "cell_type": "code",
   "execution_count": 18,
   "metadata": {},
   "outputs": [
    {
     "name": "stdout",
     "output_type": "stream",
     "text": [
      "/arc/human_abl/kinoml_OEKLIFSKinaseApoFeaturizer_ABL1_2g2f_chainA_altlocNone_protein.pdb\n",
      "/arc/human_abl/kinoml_OEKLIFSKinaseApoFeaturizer_ABL1_4xey_chainA_altlocNone_protein.pdb\n",
      "/arc/human_abl/kinoml_OEKLIFSKinaseApoFeaturizer_ABL1_4xey_chainB_altlocNone_protein.pdb\n",
      "/arc/human_abl/kinoml_OEKLIFSKinaseApoFeaturizer_ABL1_4zog_chainA_altlocNone_protein.pdb\n",
      "/arc/human_abl/kinoml_OEKLIFSKinaseApoFeaturizer_ABL1_6bl8_chainA_altlocNone_protein.pdb\n",
      "/arc/human_abl/kinoml_OEKLIFSKinaseApoFeaturizer_ABL1_6bl8_chainB_altlocA_protein.pdb\n",
      "/arc/human_abl/kinoml_OEKLIFSKinaseApoFeaturizer_ABL1_6bl8_chainB_altlocB_protein.pdb\n"
     ]
    }
   ],
   "source": [
    "# DFG-inter\n",
    "print(*[crystal_files[i] for i in np.where(crystal_clusters == 1)[0]], sep='\\n')"
   ]
  },
  {
   "cell_type": "code",
   "execution_count": null,
   "metadata": {},
   "outputs": [
    {
     "name": "stdout",
     "output_type": "stream",
     "text": [
      "/arc/human_abl/kinoml_OEKLIFSKinaseApoFeaturizer_ABL1_1opl_chainA_altlocNone_protein.pdb\n",
      "/arc/human_abl/kinoml_OEKLIFSKinaseApoFeaturizer_ABL1_1opl_chainB_altlocNone_protein.pdb\n",
      "/arc/human_abl/kinoml_OEKLIFSKinaseApoFeaturizer_ABL1_2e2b_chainA_altlocNone_protein.pdb\n",
      "/arc/human_abl/kinoml_OEKLIFSKinaseApoFeaturizer_ABL1_2e2b_chainB_altlocNone_protein.pdb\n",
      "/arc/human_abl/kinoml_OEKLIFSKinaseApoFeaturizer_ABL1_2fo0_chainA_altlocNone_protein.pdb\n",
      "/arc/human_abl/kinoml_OEKLIFSKinaseApoFeaturizer_ABL1_2g2f_chainB_altlocNone_protein.pdb\n",
      "/arc/human_abl/kinoml_OEKLIFSKinaseApoFeaturizer_ABL1_2g2h_chainA_altlocNone_protein.pdb\n",
      "/arc/human_abl/kinoml_OEKLIFSKinaseApoFeaturizer_ABL1_2g2h_chainB_altlocNone_protein.pdb\n",
      "/arc/human_abl/kinoml_OEKLIFSKinaseApoFeaturizer_ABL1_2hiw_chainA_altlocNone_protein.pdb\n",
      "/arc/human_abl/kinoml_OEKLIFSKinaseApoFeaturizer_ABL1_2hiw_chainB_altlocNone_protein.pdb\n",
      "/arc/human_abl/kinoml_OEKLIFSKinaseApoFeaturizer_ABL1_2hyy_chainA_altlocNone_protein.pdb\n",
      "/arc/human_abl/kinoml_OEKLIFSKinaseApoFeaturizer_ABL1_2hyy_chainB_altlocNone_protein.pdb\n",
      "/arc/human_abl/kinoml_OEKLIFSKinaseApoFeaturizer_ABL1_2hyy_chainC_altlocNone_protein.pdb\n",
      "/arc/human_abl/kinoml_OEKLIFSKinaseApoFeaturizer_ABL1_2hyy_chainD_altlocNone_protein.pdb\n",
      "/arc/human_abl/kinoml_OEKLIFSKinaseApoFeaturizer_ABL1_2hz0_chainA_altlocNone_protein.pdb\n",
      "/arc/human_abl/kinoml_OEKLIFSKinaseApoFeaturizer_ABL1_2hz0_chainB_altlocA_protein.pdb\n",
      "/arc/human_abl/kinoml_OEKLIFSKinaseApoFeaturizer_ABL1_2hz0_chainB_altlocB_protein.pdb\n",
      "/arc/human_abl/kinoml_OEKLIFSKinaseApoFeaturizer_ABL1_2hzi_chainA_altlocA_protein.pdb\n",
      "/arc/human_abl/kinoml_OEKLIFSKinaseApoFeaturizer_ABL1_2hzi_chainA_altlocB_protein.pdb\n",
      "/arc/human_abl/kinoml_OEKLIFSKinaseApoFeaturizer_ABL1_2hzi_chainB_altlocA_protein.pdb\n",
      "/arc/human_abl/kinoml_OEKLIFSKinaseApoFeaturizer_ABL1_2hzi_chainB_altlocB_protein.pdb\n",
      "/arc/human_abl/kinoml_OEKLIFSKinaseApoFeaturizer_ABL1_3cs9_chainA_altlocNone_protein.pdb\n",
      "/arc/human_abl/kinoml_OEKLIFSKinaseApoFeaturizer_ABL1_3cs9_chainB_altlocA_protein.pdb\n",
      "/arc/human_abl/kinoml_OEKLIFSKinaseApoFeaturizer_ABL1_3cs9_chainB_altlocB_protein.pdb\n",
      "/arc/human_abl/kinoml_OEKLIFSKinaseApoFeaturizer_ABL1_3cs9_chainC_altlocNone_protein.pdb\n",
      "/arc/human_abl/kinoml_OEKLIFSKinaseApoFeaturizer_ABL1_3cs9_chainD_altlocNone_protein.pdb\n",
      "/arc/human_abl/kinoml_OEKLIFSKinaseApoFeaturizer_ABL1_3pyy_chainA_altlocA_protein.pdb\n",
      "/arc/human_abl/kinoml_OEKLIFSKinaseApoFeaturizer_ABL1_3pyy_chainA_altlocB_protein.pdb\n",
      "/arc/human_abl/kinoml_OEKLIFSKinaseApoFeaturizer_ABL1_3pyy_chainB_altlocA_protein.pdb\n",
      "/arc/human_abl/kinoml_OEKLIFSKinaseApoFeaturizer_ABL1_3pyy_chainB_altlocB_protein.pdb\n",
      "/arc/human_abl/kinoml_OEKLIFSKinaseApoFeaturizer_ABL1_3qri_chainA_altlocA_protein.pdb\n",
      "/arc/human_abl/kinoml_OEKLIFSKinaseApoFeaturizer_ABL1_3qri_chainA_altlocB_protein.pdb\n",
      "/arc/human_abl/kinoml_OEKLIFSKinaseApoFeaturizer_ABL1_3qri_chainB_altlocA_protein.pdb\n",
      "/arc/human_abl/kinoml_OEKLIFSKinaseApoFeaturizer_ABL1_3qri_chainB_altlocB_protein.pdb\n",
      "/arc/human_abl/kinoml_OEKLIFSKinaseApoFeaturizer_ABL1_3qrj_chainA_altlocA_protein.pdb\n",
      "/arc/human_abl/kinoml_OEKLIFSKinaseApoFeaturizer_ABL1_3qrj_chainA_altlocB_protein.pdb\n",
      "/arc/human_abl/kinoml_OEKLIFSKinaseApoFeaturizer_ABL1_3qrj_chainB_altlocA_protein.pdb\n",
      "/arc/human_abl/kinoml_OEKLIFSKinaseApoFeaturizer_ABL1_3qrj_chainB_altlocB_protein.pdb\n",
      "/arc/human_abl/kinoml_OEKLIFSKinaseApoFeaturizer_ABL1_3qrk_chainA_altlocNone_protein.pdb\n",
      "/arc/human_abl/kinoml_OEKLIFSKinaseApoFeaturizer_ABL1_3ue4_chainA_altlocNone_protein.pdb\n",
      "/arc/human_abl/kinoml_OEKLIFSKinaseApoFeaturizer_ABL1_3ue4_chainB_altlocNone_protein.pdb\n",
      "/arc/human_abl/kinoml_OEKLIFSKinaseApoFeaturizer_ABL1_4wa9_chainB_altlocNone_protein.pdb\n",
      "/arc/human_abl/kinoml_OEKLIFSKinaseApoFeaturizer_ABL1_4yc8_chainA_altlocNone_protein.pdb\n",
      "/arc/human_abl/kinoml_OEKLIFSKinaseApoFeaturizer_ABL1_4yc8_chainB_altlocNone_protein.pdb\n",
      "/arc/human_abl/kinoml_OEKLIFSKinaseApoFeaturizer_ABL1_4zog_chainB_altlocNone_protein.pdb\n",
      "/arc/human_abl/kinoml_OEKLIFSKinaseApoFeaturizer_ABL1_5hu9_chainA_altlocA_protein.pdb\n",
      "/arc/human_abl/kinoml_OEKLIFSKinaseApoFeaturizer_ABL1_5hu9_chainA_altlocB_protein.pdb\n",
      "/arc/human_abl/kinoml_OEKLIFSKinaseApoFeaturizer_ABL1_5mo4_chainA_altlocA_protein.pdb\n",
      "/arc/human_abl/kinoml_OEKLIFSKinaseApoFeaturizer_ABL1_5mo4_chainA_altlocB_protein.pdb\n",
      "/arc/human_abl/kinoml_OEKLIFSKinaseApoFeaturizer_ABL1_6npe_chainA_altlocA_protein.pdb\n",
      "/arc/human_abl/kinoml_OEKLIFSKinaseApoFeaturizer_ABL1_6npe_chainA_altlocB_protein.pdb\n",
      "/arc/human_abl/kinoml_OEKLIFSKinaseApoFeaturizer_ABL1_6npe_chainB_altlocA_protein.pdb\n",
      "/arc/human_abl/kinoml_OEKLIFSKinaseApoFeaturizer_ABL1_6npe_chainB_altlocB_protein.pdb\n",
      "/arc/human_abl/kinoml_OEKLIFSKinaseApoFeaturizer_ABL1_6npu_chainA_altlocNone_protein.pdb\n",
      "/arc/human_abl/kinoml_OEKLIFSKinaseApoFeaturizer_ABL1_6npu_chainB_altlocNone_protein.pdb\n",
      "/arc/human_abl/kinoml_OEKLIFSKinaseApoFeaturizer_ABL1_6npv_chainA_altlocNone_protein.pdb\n",
      "/arc/human_abl/kinoml_OEKLIFSKinaseApoFeaturizer_ABL1_6npv_chainB_altlocA_protein.pdb\n",
      "/arc/human_abl/kinoml_OEKLIFSKinaseApoFeaturizer_ABL1_6npv_chainB_altlocB_protein.pdb\n"
     ]
    }
   ],
   "source": [
    "# DFG-out\n",
    "print(*[crystal_files[i] for i in np.where(crystal_clusters == 2)[0]], sep='\\n')"
   ]
  },
  {
   "cell_type": "code",
   "execution_count": null,
   "metadata": {},
   "outputs": [],
   "source": []
  }
 ],
 "metadata": {
  "kernelspec": {
   "display_name": "msm",
   "language": "python",
   "name": "python3"
  },
  "language_info": {
   "codemirror_mode": {
    "name": "ipython",
    "version": 3
   },
   "file_extension": ".py",
   "mimetype": "text/x-python",
   "name": "python",
   "nbconvert_exporter": "python",
   "pygments_lexer": "ipython3",
   "version": "3.10.15"
  }
 },
 "nbformat": 4,
 "nbformat_minor": 2
}
