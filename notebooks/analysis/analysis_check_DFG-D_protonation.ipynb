{
 "cells": [
  {
   "cell_type": "code",
   "execution_count": 10,
   "metadata": {},
   "outputs": [],
   "source": [
    "from pathlib import Path\n",
    "import os \n",
    "import mdtraj as md\n",
    "from natsort import natsorted\n",
    "import numpy as np"
   ]
  },
  {
   "cell_type": "code",
   "execution_count": 19,
   "metadata": {},
   "outputs": [],
   "source": [
    "protein = 'abl'\n",
    "starting_structures = natsorted(list(Path(f'/arc/{protein}_equilibrated_strucs').glob('RUN*_solute_equilibrated.pdb')))"
   ]
  },
  {
   "cell_type": "code",
   "execution_count": 21,
   "metadata": {},
   "outputs": [],
   "source": [
    "def find_atomid(top, atom_name) -> int:\n",
    "    atomid = np.where([str(atom) == atom_name for atom in top.atoms])[0]\n",
    "\n",
    "    if len(atomid) > 0:\n",
    "        return atomid[0]\n",
    "    else:\n",
    "        return []"
   ]
  },
  {
   "cell_type": "code",
   "execution_count": 23,
   "metadata": {},
   "outputs": [],
   "source": [
    "for f in starting_structures:\n",
    "    traj = md.load(f)\n",
    "    top = traj.topology\n",
    "    atomid = find_atomid(top, 'ASP381-HD1') + find_atomid(top, 'ASP381-HD2') + find_atomid(top, 'ASP381-HD')\n",
    "    if len(atomid) > 0:\n",
    "        print(f, atomid)"
   ]
  },
  {
   "cell_type": "code",
   "execution_count": null,
   "metadata": {},
   "outputs": [],
   "source": []
  }
 ],
 "metadata": {
  "kernelspec": {
   "display_name": "kinase",
   "language": "python",
   "name": "python3"
  },
  "language_info": {
   "codemirror_mode": {
    "name": "ipython",
    "version": 3
   },
   "file_extension": ".py",
   "mimetype": "text/x-python",
   "name": "python",
   "nbconvert_exporter": "python",
   "pygments_lexer": "ipython3",
   "version": "3.10.0"
  }
 },
 "nbformat": 4,
 "nbformat_minor": 2
}
