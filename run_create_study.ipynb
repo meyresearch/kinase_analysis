{
 "cells": [
  {
   "cell_type": "code",
   "execution_count": 9,
   "metadata": {},
   "outputs": [],
   "source": [
    "import pandas as pd\n",
    "import numpy as np\n",
    "import optuna\n",
    "from optuna.samplers import TPESampler\n",
    "from optuna.samplers import RandomSampler\n",
    "from optuna.samplers import GridSampler\n",
    "from copy import deepcopy"
   ]
  },
  {
   "cell_type": "code",
   "execution_count": 30,
   "metadata": {},
   "outputs": [],
   "source": [
    "storage_name = \"sqlite:///data_egfr/msm/allfeature_studies/allfeature.db\"\n",
    "study_name = \"lag100_gridserarch\""
   ]
  },
  {
   "cell_type": "code",
   "execution_count": 38,
   "metadata": {},
   "outputs": [],
   "source": [
    "search_space = {\"tica__lag\": list(range(1,101,10)), \"tica__dim\": list(range(10,101,20)), \"cluster__k\": list(range(8000,12001,1000))}\n",
    "sampler = GridSampler(search_space)\n",
    "# sampler = RandomSampler()\n",
    "# sampler = TPESampler(multivariate=True)"
   ]
  },
  {
   "cell_type": "code",
   "execution_count": 39,
   "metadata": {},
   "outputs": [
    {
     "name": "stderr",
     "output_type": "stream",
     "text": [
      "[I 2024-03-22 16:04:34,483] A new study created in RDB with name: lag100_gridserarch\n"
     ]
    },
    {
     "data": {
      "text/plain": [
       "0"
      ]
     },
     "execution_count": 39,
     "metadata": {},
     "output_type": "execute_result"
    }
   ],
   "source": [
    "study = optuna.create_study(study_name=study_name, \n",
    "                            sampler=sampler, \n",
    "                            storage=storage_name, \n",
    "                            directions=[\"maximize\",\"maximize\",\"maximize\", \"maximize\"], \n",
    "                            load_if_exists=True)\n",
    "len(study.trials)"
   ]
  },
  {
   "cell_type": "code",
   "execution_count": 40,
   "metadata": {},
   "outputs": [],
   "source": [
    "# DELETE A STUDY\n",
    "\n",
    "study = optuna.delete_study(study_name=study_name, storage=storage_name)"
   ]
  },
  {
   "cell_type": "code",
   "execution_count": null,
   "metadata": {},
   "outputs": [],
   "source": []
  }
 ],
 "metadata": {
  "kernelspec": {
   "display_name": "kinase",
   "language": "python",
   "name": "python3"
  },
  "language_info": {
   "codemirror_mode": {
    "name": "ipython",
    "version": 3
   },
   "file_extension": ".py",
   "mimetype": "text/x-python",
   "name": "python",
   "nbconvert_exporter": "python",
   "pygments_lexer": "ipython3",
   "version": "3.10.0"
  }
 },
 "nbformat": 4,
 "nbformat_minor": 2
}
